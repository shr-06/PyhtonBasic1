{
  "nbformat": 4,
  "nbformat_minor": 0,
  "metadata": {
    "colab": {
      "provenance": []
    },
    "kernelspec": {
      "name": "python3",
      "display_name": "Python 3"
    },
    "language_info": {
      "name": "python"
    }
  },
  "cells": [
    {
      "cell_type": "markdown",
      "source": [
        "#Python Basics Questions-Answers"
      ],
      "metadata": {
        "id": "D3ofBX585OS9"
      }
    },
    {
      "cell_type": "markdown",
      "source": [
        " **1.What is Python, and why is it popular?**\n",
        "  - Python is a high-level, interpreted programming language known for its simplicity and readability. It is widely used for web development, data analysis, artificial intelligence, scientific computing, automation, and more.\n",
        "-  Why Python is Popular:\n",
        "     1. **Ease of Use**: Its clean syntax makes it beginner-friendly.\n",
        "    2. **Versatility**: Supports multiple programming paradigms (e.g., object-oriented, functional, procedural).\n",
        "    3. **Rich Libraries**: Extensive libraries and frameworks for various applications (e.g., NumPy, Pandas, Django, TensorFlow).\n",
        "    4. **Community Support**: A large and active developer community provides resources and support.\n",
        "    5. **Cross-Platform**: Runs on various operating systems without modification."
      ],
      "metadata": {
        "id": "2i_OZmNcWQ-a"
      }
    },
    {
      "cell_type": "markdown",
      "source": [
        "**2 What is an interpreter in Python?**\n",
        "\n",
        "  - An interpreter in Python is a program that executes Python code line by line. Unlike a compiler, which translates the entire code into machine language before execution, the Python interpreter processes the code in a sequential manner, executing each line as it is read.\n",
        "\n",
        "   Key Characteristics of Python's Interpreter:\n",
        "\n",
        "  -  1.Interactive Execution: Supports running code interactively (e.g., using the Python REPL).\n",
        "  - 2.Platform Independence: The interpreter is available for multiple platforms, ensuring cross-platform compatibility.\n",
        "  - 3.Dynamic Typing: Python's interpreter dynamically checks data types at runtime.\n",
        "  - 4.Error Detection: Stops execution upon encountering an error, making debugging straightforward.\n",
        "\n",
        "Python's default interpreter is CPython, but there are alternatives like PCharm, Jython, and IronPython that offer different features or performance optimizations."
      ],
      "metadata": {
        "id": "IMKilsAA2u06"
      }
    },
    {
      "cell_type": "markdown",
      "source": [
        "**3.What are pre-defined keywords in Python?**\n",
        "  - pre-defined keywords in Python are reserved words that have specific meanings and purposes in the language. These keywords are part of Python's syntax and cannot be used as identifiers (e.g., variable names, function names).\n",
        "\n",
        "  - Characteristics of Python Keywords:\n",
        "    - 1.Fixed Meaning: Keywords have predefined functionality and cannot be redefined.\n",
        "    - 2.Case-Sensitive: All keywords in Python are lowercase (e.g., if, while) except for True, False, and None.\n",
        "    - 3.Essential for Syntax: They are fundamental for writing Python code (e.g., for control flow, exception handling, and defining functions or classes).\n",
        "  -Examples of Pre-Defined Keywords in Python:\n",
        "Here are some commonly used Python keywords:\n",
        "\n",
        "  -Control Flow: if, else, elif, while, for, break, continue, pass\n",
        "  -Function and Class Definition: def, return, class\n",
        "  -Logical and Boolean: and, or, not, True, False\n",
        "  -Data Handling: None, in, is, del\n",
        "Exception Handling: try, except, finally, raise, assert\n",
        "  -Miscellaneous: import, from, as, global, nonlocal, with, yield, lambda\n",
        "\n",
        "To view all keywords in Python, you can use the following command in a Python environment:\n",
        "\n",
        "\n",
        "\n"
      ],
      "metadata": {
        "id": "OYNlLN0w209W"
      }
    },
    {
      "cell_type": "code",
      "source": [
        "help('keywords')"
      ],
      "metadata": {
        "colab": {
          "base_uri": "https://localhost:8080/"
        },
        "id": "lYG5KeY-9VCt",
        "outputId": "91def997-8d2f-434d-ff16-b3c139b33c4e"
      },
      "execution_count": null,
      "outputs": [
        {
          "output_type": "stream",
          "name": "stdout",
          "text": [
            "\n",
            "Here is a list of the Python keywords.  Enter any keyword to get more help.\n",
            "\n",
            "False               class               from                or\n",
            "None                continue            global              pass\n",
            "True                def                 if                  raise\n",
            "and                 del                 import              return\n",
            "as                  elif                in                  try\n",
            "assert              else                is                  while\n",
            "async               except              lambda              with\n",
            "await               finally             nonlocal            yield\n",
            "break               for                 not                 \n",
            "\n"
          ]
        }
      ]
    },
    {
      "cell_type": "markdown",
      "source": [
        "**4.Can keywords be used as variable names?**\n",
        "  - No, keywords cannot be used as variable names in Python. Keywords are reserved words with specific meanings in the language's syntax, and attempting to use them as variable names will result in a SyntaxError.\n",
        "     \n",
        "     if = 10 ->this will raise a Syntaxerror.\n",
        "\n",
        "  - Why Can't Keywords Be Used as Variable Names?\n",
        "    - Keywords are integral to Python's syntax and serve specific purposes (e.g., if for conditional statements, for for loops).\n",
        "    Using them as variable names would create ambiguity and errors in program execution.\n",
        "  - How to Avoid Keyword Conflicts:\n",
        "If you want to use a word that is similar to a keyword as a variable name, consider modifying it slightly, for example:\n",
        "  "
      ],
      "metadata": {
        "id": "cjGsS0Iy27Iw"
      }
    },
    {
      "cell_type": "code",
      "source": [
        "if_value = 10 #this is valid"
      ],
      "metadata": {
        "id": "z4OPP6Kj7-zu"
      },
      "execution_count": null,
      "outputs": []
    },
    {
      "cell_type": "markdown",
      "source": [
        "**5.  What is mutability in Python?**\n",
        "\n",
        " - Mutability in Python refers to the ability of an object to be modified after it is created. Depending on whether an object can be changed, Python classifies objects into two categories:\n",
        "\n",
        "  1.Mutable Objects: Objects whose values can be changed after creation.\n",
        "  2.Immutable Objects: Objects whose values cannot be changed after creation.\n",
        "Mutable Objects\n",
        "These objects allow modification of their content without changing their identity (memory address). Examples of mutable objects in Python include:\n",
        "  - Lists\n",
        "  - Dictionaries\n",
        "  - Sets\n",
        "\n"
      ],
      "metadata": {
        "id": "ylLsuomg9opa"
      }
    },
    {
      "cell_type": "code",
      "source": [
        "my_lis = [1,2,3,4]\n",
        "my_lis[0] = 2.5 #modifying the 1st eleement\n",
        "print(my_lis)  #op:[2.5,2,3,4]"
      ],
      "metadata": {
        "colab": {
          "base_uri": "https://localhost:8080/"
        },
        "id": "jQBIOpuC-slm",
        "outputId": "b94c2e38-b900-485d-f730-6139e3816704"
      },
      "execution_count": null,
      "outputs": [
        {
          "output_type": "stream",
          "name": "stdout",
          "text": [
            "[2.5, 2, 3, 4]\n"
          ]
        }
      ]
    },
    {
      "cell_type": "markdown",
      "source": [
        "- Immutable Objects\n",
        "  These objects do not allow modifications to their content. Any attempt to change an immutable object creates a new object in memory. Examples of immutable objects in Python include:\n",
        "- Strings\n",
        "- Tuples\n",
        "- Integers\n",
        "- Floats\n",
        "\n",
        "Example of Immutability:\n",
        "\n"
      ],
      "metadata": {
        "id": "uzTeL7_B_S5X"
      }
    },
    {
      "cell_type": "code",
      "source": [
        "my_str= \"hello\"\n",
        "my_str[0] = 'H'  #this will raise a typeError\n",
        "#instrad we create new string\n",
        "my_str = \"Hello\"\n",
        "my_str"
      ],
      "metadata": {
        "id": "gZ0iRJv__pJ5"
      },
      "execution_count": null,
      "outputs": []
    },
    {
      "cell_type": "markdown",
      "source": [
        "**6.Why are lists mutable, but tuples are immutable?**\n",
        "- The difference in mutability between lists and tuples in Python arises from their design and intended use cases. Lists are mutable, meaning their contents can be changed after they are created, while tuples are immutable, meaning their contents cannot be altered once defined. This distinction is deliberate and serves specific purposes.\n",
        "-Why Are Lists Mutable?\n",
        "Lists are designed for scenarios where frequent updates, modifications, or additions to the data are required. They act as flexible containers, allowing you to change individual elements, append new items, remove existing ones, or even reorder the data. This flexibility is made possible because lists have a dynamic structure, implemented as a resizable array in memory.\n",
        "When you modify a list, the changes occur directly in the same memory location, meaning the identity of the list remains the same. This behavior is efficient for use cases where data needs to evolve over time, such as maintaining a shopping cart, a task list, or any collection of items that might grow, shrink, or change.\n",
        "\n",
        "Example:\n",
        "\n",
        "\n",
        "\n"
      ],
      "metadata": {
        "id": "FntpWlcO3Bqg"
      }
    },
    {
      "cell_type": "code",
      "source": [
        "my_list = [1, 2, 3]\n",
        "my_list[0] = 4  # Modify an element\n",
        "my_list.append(4)  # Add a new element\n",
        "print(my_list)  # Output: [10, 2, 3, 4]"
      ],
      "metadata": {
        "colab": {
          "base_uri": "https://localhost:8080/"
        },
        "id": "B4z9kMaVBYuO",
        "outputId": "f8c52d60-23b3-48ec-a676-99496ae31da6"
      },
      "execution_count": null,
      "outputs": [
        {
          "output_type": "stream",
          "name": "stdout",
          "text": [
            "[4, 2, 3, 4]\n"
          ]
        }
      ]
    },
    {
      "cell_type": "markdown",
      "source": [
        "  -Why Are Tuples Immutable?\n",
        "  \n",
        "  Tuples, on the other hand, are designed for scenarios where the data should remain constant and unchanged. Once a tuple is created, its contents are fixed, and any attempt to modify it will result in an error. This immutability makes tuples inherently safer to use in situations where data integrity is critical, such as using tuples as keys in dictionaries or storing fixed configurations like coordinates or settings.\n",
        "The immutability of tuples is not just a constraint but an optimization. Because their contents cannot change, tuples are stored more efficiently in memory and are faster to process. Additionally, they eliminate the risk of accidental modification, which is especially important in multi-threaded programs where immutable objects can be shared safely without introducing synchronization issues.\n",
        "\n",
        "Example:\n",
        "\n"
      ],
      "metadata": {
        "id": "SIWktwOBBmrI"
      }
    },
    {
      "cell_type": "code",
      "source": [
        "my_tuple = (1, 2, 3)\n",
        "my_tuple[0] = 10  # Raises TypeError: 'tuple' object does not support item assignment"
      ],
      "metadata": {
        "id": "0oC5Rj9-B_Dx"
      },
      "execution_count": null,
      "outputs": []
    },
    {
      "cell_type": "markdown",
      "source": [
        "**7.what is the difference between \"==\" and \"is\" operators in python.**\n",
        "  - In Python, the == operator and the is operator serve different purposes, and their usage depends on what you're trying to compare.\n",
        "1. == (Equality Operator)\n",
        "Purpose: Compares the values of two objects to check if they are equal.\n",
        "Checks: Whether the data contained in the objects is the same, even if they are stored in different memory locations.\n",
        "Example:\n",
        "   a = [1, 2, 3]\n",
        "   b = [1, 2, 3]\n",
        "   print(a == b)  -> True, because the values in the lists are the same\n",
        "   \n",
        "    2. is (Identity Operator)\n",
        "Purpose: Compares the identities of two objects to check if they are the same object in memory.\n",
        "Checks: Whether the two references point to the exact same object (i.e., they have the same memory address).\n",
        "Example:\n",
        "python\n",
        "\n",
        "        a = [1, 2, 3]\n",
        "        b = [1, 2, 3]\n",
        "        print(a is b)-> False, because a and b are different objects in memory\n",
        "\n",
        "Key Points to Remember:\n",
        "  - Mutability Matters: For mutable objects (e.g., lists, dictionaries), == can return True if the contents are the same, but is will only return True if both references point to the same object.\n",
        "Immutable Objects: For immutable objects (e.g., integers, strings), Python may optimize memory usage by reusing objects, so is can sometimes return True for values that seem identical but are not explicitly the same object.\n",
        "For ex:\n",
        "\n",
        "      x = 1000\n",
        "      y = 1000\n",
        "      print(x is y)  # False, typically different memory\n",
        "      print(x == y)  # True, values are equal\n",
        "\n",
        "      a = 10\n",
        "      b = 10\n",
        "      print(a is b)  # True, small integers are cached and reused"
      ],
      "metadata": {
        "id": "7xNEWdNtWVil"
      }
    },
    {
      "cell_type": "markdown",
      "source": [
        "**8. What are logical operators in Python ?**\n",
        "  - Logical operators in Python are used to perform logical operations on boolean values (True and False). These operators are essential for combining conditional statements and evaluating complex logical expressions.\n",
        "  - Logical Operators in Python:\n",
        "\n",
        "      There are three main logical operators in Python:\n",
        "\n",
        "      and (Logical AND):\n",
        "\n",
        "      Returns True if both operands are True.Returns False otherwise\n",
        "      eg:"
      ],
      "metadata": {
        "id": "mmUpEEH23Ou7"
      }
    },
    {
      "cell_type": "code",
      "source": [
        "x = 5\n",
        "print(x > 3 and x < 10)  # True because both conditions are True"
      ],
      "metadata": {
        "colab": {
          "base_uri": "https://localhost:8080/"
        },
        "id": "bAz-xtWADjhZ",
        "outputId": "3beef3a5-c8e7-4caa-da7f-b21e4c9e626c"
      },
      "execution_count": null,
      "outputs": [
        {
          "output_type": "stream",
          "name": "stdout",
          "text": [
            "True\n"
          ]
        }
      ]
    },
    {
      "cell_type": "markdown",
      "source": [
        "  2.or (Logical OR):\n",
        "\n",
        "Returns True if at least one operand is True.\n",
        "Returns False only if both operands are False.\n",
        "\n",
        "eg:"
      ],
      "metadata": {
        "id": "DM8JVu1SDqw9"
      }
    },
    {
      "cell_type": "code",
      "source": [
        "y = 7\n",
        "print(y < 5 or y > 3)  # True because one condition (y > 3) is True"
      ],
      "metadata": {
        "colab": {
          "base_uri": "https://localhost:8080/"
        },
        "id": "ei38uqtiD2L3",
        "outputId": "f93c35f0-82b7-4d3a-a6af-db26a9d123a9"
      },
      "execution_count": null,
      "outputs": [
        {
          "output_type": "stream",
          "name": "stdout",
          "text": [
            "True\n"
          ]
        }
      ]
    },
    {
      "cell_type": "markdown",
      "source": [
        "3.not (Logical NOT):\n",
        "\n",
        "Reverses the logical value of the operand.\n",
        "If the operand is True, it returns False, and vice versa.\n",
        "\n",
        "eg:\n"
      ],
      "metadata": {
        "id": "knQ6Gr5aD7nL"
      }
    },
    {
      "cell_type": "code",
      "source": [
        "z = False\n",
        "print(not z)  # True because not reverses the value of z\n"
      ],
      "metadata": {
        "colab": {
          "base_uri": "https://localhost:8080/"
        },
        "id": "7se04EMzED_B",
        "outputId": "f3435df4-c0a4-4115-f13e-887aebdbafc1"
      },
      "execution_count": null,
      "outputs": [
        {
          "output_type": "stream",
          "name": "stdout",
          "text": [
            "True\n"
          ]
        }
      ]
    },
    {
      "cell_type": "markdown",
      "source": [
        "**9.What is type casting in Python?**\n",
        "  - Type casting>> The preocess of changing the data type of a value/object\n",
        "  \n",
        "  why?while executing/computation using operators, there can be mismatch between the datatype\n",
        "\n",
        " Type casting in Python refers to the process of converting a variable from one data type to another. It is also known as type conversion. Python provides built-in functions to facilitate type casting, enabling developers to control how data is stored and manipulated.\n",
        " - Python automatically converts a variable from one data type to another when no data loss occurs.\n",
        "- This typically happens during operations between compatible types, such as integers and floats.\n",
        "- This requires the programmer to manually convert a variable's data type using built-in functions like int(), float(), str(), and list().\n",
        "- It is used when the conversion might not happen automatically, or when the developer needs to ensure data is in a specific format.\n",
        "\n",
        "\n"
      ],
      "metadata": {
        "id": "Ymq9YoIZ3bHX"
      }
    },
    {
      "cell_type": "code",
      "source": [
        "# Converting a float to an integer\n",
        "num = 3.14\n",
        "int_num = int(num)  # Converts the float to an integer\n",
        "print(int_num)  # Output: 3\n",
        "\n",
        "# Converting a number to a string\n",
        "age = 25\n",
        "age_str = str(age)\n",
        "print(age_str)  # Output: \"25\""
      ],
      "metadata": {
        "id": "WV8c6GjqFjfC"
      },
      "execution_count": null,
      "outputs": []
    },
    {
      "cell_type": "markdown",
      "source": [
        " type casting in Python is a powerful tool that allows for seamless data manipulation and ensures the program handles different data types effectively. Whether Python performs it implicitly or the developer does so explicitly, type casting is integral to writing robust and flexible code.\n",
        "\n"
      ],
      "metadata": {
        "id": "p2a0dWRZF2Id"
      }
    },
    {
      "cell_type": "markdown",
      "source": [
        "** 10.What is the difference between implicit and explicit type casting ?**\n",
        "  - The difference between implicit and explicit type casting in Python lies in how the conversion between data types is handled and who controls the process.\n",
        "  1.Implicit Type Casting (Automatic Type Conversion)\n",
        "- Definition: Implicit type casting occurs automatically when Python detects that it can safely convert a variable from one data type to another, usually without the loss of data.\n",
        "-Python performs this conversion automatically.\n",
        "-When It Happens: It typically happens when performing operations between compatible data types, like an integer and a float, where no data would be lost in the conversion.\n",
        "-Key Point: Python automatically promotes the variable to a \"larger\" or more complex type (e.g., from int to float) to preserve accuracy."
      ],
      "metadata": {
        "id": "FpNmhYin3mkI"
      }
    },
    {
      "cell_type": "code",
      "source": [
        "x = 5     # Integer\n",
        "y = 2.5   # Float\n",
        "result = x + y  # The integer `x` is automatically converted to a float before the operation\n",
        "print(result)  # Output: 7.5"
      ],
      "metadata": {
        "id": "Qx7S3iymGlzb"
      },
      "execution_count": null,
      "outputs": []
    },
    {
      "cell_type": "markdown",
      "source": [
        "2.Explicit Type Casting (Manual Type Conversion)\n",
        "- Definition: Explicit type casting is when the programmer manually converts a variable from one type to another using built-in functions like int(), float(), str(), etc.\n",
        "- Who Does It: The programmer is responsible for triggering the conversion.\n",
        "- When It Happens: It is used when you need to control how data is converted or when automatic conversion cannot happen.\n",
        "- Key Point: The programmer must explicitly tell Python how to convert the data, and they need to ensure that the conversion is valid (e.g., converting a string to an integer that contains non-numeric characters will raise an error).\n"
      ],
      "metadata": {
        "id": "FsvZP-boGrw1"
      }
    },
    {
      "cell_type": "code",
      "source": [
        "x = \"10\"      # String\n",
        "y = int(x)    # Explicitly converting the string `x` to an integer\n",
        "print(y)      # Output: 10"
      ],
      "metadata": {
        "colab": {
          "base_uri": "https://localhost:8080/"
        },
        "id": "PIsY2ORUIRpa",
        "outputId": "b9ce45be-bb12-4eb7-8ade-3202ff623a2b"
      },
      "execution_count": null,
      "outputs": [
        {
          "output_type": "stream",
          "name": "stdout",
          "text": [
            "10\n"
          ]
        }
      ]
    },
    {
      "cell_type": "markdown",
      "source": [
        " implicit type casting is automatically managed by Python when its safe to do so, while explicit type casting is the process where the programmer manually converts between data types, ensuring the conversion is valid and intentional."
      ],
      "metadata": {
        "id": "OC4FVkGOIiTy"
      }
    },
    {
      "cell_type": "markdown",
      "source": [
        "**11.What is the purpose of conditional statements in Python?**\n",
        "- The purpose of conditional statements in Python is to allow the program to make decisions based on certain conditions, enabling it to execute specific blocks of code depending on whether a condition is True or False. Conditional statements are essential for implementing decision-making and controlling the flow of a program.\n",
        "- Why Conditional Statements Are Important:\n",
        "Decision Making: Conditional statements help a program to decide which path of execution to follow based on certain criteria.\n",
        "Control Flow: They enable the program to react differently to various inputs, scenarios, or states, making the code more dynamic and flexible.\n",
        "Problem Solving: They allow the program to make choices, for example, validating user input, checking if a number is even or odd, or implementing game logic where actions depend on certain conditions.\n",
        "#Types of Conditional Statements in Python:\n",
        "  1. if Statement:\n",
        "\n",
        "      The basic conditional statement, which evaluates a condition and executes the associated block of code if the condition is True.\n",
        "\n",
        "\n"
      ],
      "metadata": {
        "id": "Wnw6OS8o3yWJ"
      }
    },
    {
      "cell_type": "code",
      "source": [
        "x = 10\n",
        "if x > 5:\n",
        "  print(\"x is greater than 5\")    #this will execute because the condition is True."
      ],
      "metadata": {
        "id": "Ln5nkyhreEAH"
      },
      "execution_count": null,
      "outputs": []
    },
    {
      "cell_type": "markdown",
      "source": [
        "2.else Statement:\n",
        "\n",
        "  Used in conjunction with the if statement to execute a block of code when the if condition is False.\n",
        "\n",
        "\n"
      ],
      "metadata": {
        "id": "oeEUpdbLeWl-"
      }
    },
    {
      "cell_type": "code",
      "source": [
        "x = 3\n",
        "if x > 5:\n",
        "    print(\"x is greater than 5\")\n",
        "else:\n",
        "    print(\"x is not greater than 5\")  # This will execute because the condition is False"
      ],
      "metadata": {
        "id": "DKHhKC1EejTL"
      },
      "execution_count": null,
      "outputs": []
    },
    {
      "cell_type": "markdown",
      "source": [
        "3.elif Statement:\n",
        "\n",
        "Stands for \"else if\" and is used when you want to check multiple conditions sequentially.\n",
        "If the first if condition is False, the program checks each elif condition in order until one of them evaluates to True."
      ],
      "metadata": {
        "id": "6zsbKXq3euSj"
      }
    },
    {
      "cell_type": "code",
      "source": [
        "x = 7\n",
        "if x < 5:\n",
        "    print(\"x is less than 5\")\n",
        "elif x == 7:\n",
        "    print(\"x is equal to 7\")  # This will execute because the condition is True\n",
        "else:\n",
        "    print(\"x is greater than 5\")\n"
      ],
      "metadata": {
        "id": "SNNfFNxoe0Xq"
      },
      "execution_count": null,
      "outputs": []
    },
    {
      "cell_type": "markdown",
      "source": [
        "4.Nested Conditional Statements:\n",
        "\n",
        "  Conditional statements can be nested within each other, allowing for more complex decision-making structures."
      ],
      "metadata": {
        "id": "n0r_S-1XfAel"
      }
    },
    {
      "cell_type": "code",
      "source": [
        "x = 8\n",
        "if x > 5:\n",
        "    if x % 2 == 0:\n",
        "        print(\"x is even and greater than 5\")  # This will execute\n",
        "    else:\n",
        "        print(\"x is odd and greater than 5\")\n"
      ],
      "metadata": {
        "id": "3ikKOR4xfVci"
      },
      "execution_count": null,
      "outputs": []
    },
    {
      "cell_type": "markdown",
      "source": [
        "**12. How does the elif statement work?**\n",
        "  - The elif statement in Python, short for \"else if,\" allows you to check multiple conditions sequentially in a decision-making process. It is used in conjunction with if and optionally else to create branching logic where different blocks of code are executed based on different conditions.\n",
        "    - How the elif Statement Works:\n",
        "      1.Evaluates Sequentially:\n",
        "\n",
        "     - The program first evaluates the condition in the if statement.\n",
        "     - If the if condition is True, its block of code executes, and the remaining elif and else blocks are skipped.\n",
        "     - If the if condition is False, the program moves to the first elif statement and evaluates its condition. This process continues for each subsequent elif.\n",
        "    \n",
        "      2.Stops at the First Match:\n",
        "\n",
        "     - As soon as one condition evaluates to True, the associated block of code is executed, and the program exits the entire chain of if-elif-else statements.\n",
        "     - If no if or elif condition evaluates to True and an else block is present, the else block is executed as the default case.\n",
        "\n",
        "Optional Use:\n",
        "\n",
        "we can have multiple elif statements or none at all, depending on your logic.\n",
        "\n",
        "An else statement is also optional.\n",
        "\n",
        "Example:\n"
      ],
      "metadata": {
        "id": "IdOrfmA730cI"
      }
    },
    {
      "cell_type": "code",
      "source": [
        "score = 85\n",
        "\n",
        "if score >= 90:\n",
        "    print(\"Grade: A\")\n",
        "elif score >= 80:\n",
        "    print(\"Grade: B\")  # This will execute because score is 85\n",
        "elif score >= 70:\n",
        "    print(\"Grade: C\")\n",
        "else:\n",
        "    print(\"Grade: F\")\n"
      ],
      "metadata": {
        "colab": {
          "base_uri": "https://localhost:8080/"
        },
        "id": "ap1AkRJ7hZKi",
        "outputId": "2ec54f0d-e855-459b-a9e5-a31dcd38855f"
      },
      "execution_count": null,
      "outputs": [
        {
          "output_type": "stream",
          "name": "stdout",
          "text": [
            "Grade: B\n"
          ]
        }
      ]
    },
    {
      "cell_type": "markdown",
      "source": [
        "Practical Use of elif:\n",
        "\n",
        "  The elif statement is useful in scenarios where multiple mutually exclusive conditions need to be checked, such as:\n",
        "  - Assigning grades based on marks.\n",
        "  - Categorizing data into different ranges.\n",
        "  - Creating menu-driven programs.\n",
        "\n",
        "the elif statement is a crucial part of Python's decision-making structure, enabling efficient and readable branching logic for handling multiple conditions."
      ],
      "metadata": {
        "id": "E-Ogw9ouhuba"
      }
    },
    {
      "cell_type": "markdown",
      "source": [
        "**13. What is the difference between for and while loops?**\n",
        "  - **for Loop**:\n",
        "The for loop iterates over a sequence or a range of values. It is ideal for situations where you need to repeat actions for every element in a collection or a known range.\n",
        "\n",
        "\n",
        "\n",
        "  \n"
      ],
      "metadata": {
        "id": "MxgIMw3G35XC"
      }
    },
    {
      "cell_type": "code",
      "source": [
        "#Syntax:\n",
        "for item in sequence:\n",
        "  #code block"
      ],
      "metadata": {
        "id": "k6FcYRjUjmIm"
      },
      "execution_count": null,
      "outputs": []
    },
    {
      "cell_type": "code",
      "source": [
        "#Example:\n",
        "range(0,10)\n",
        "for i in range(5):\n",
        "  print(i)"
      ],
      "metadata": {
        "colab": {
          "base_uri": "https://localhost:8080/"
        },
        "id": "udcvQUCDodLm",
        "outputId": "d2e8ceea-3fb1-4581-c510-bb719a517697"
      },
      "execution_count": null,
      "outputs": [
        {
          "output_type": "stream",
          "name": "stdout",
          "text": [
            "0\n",
            "1\n",
            "2\n",
            "3\n",
            "4\n"
          ]
        }
      ]
    },
    {
      "cell_type": "markdown",
      "source": [
        "  - **While Loop**:Used when the number of iterations is unknown and depends on a condition.\n",
        "  \n",
        "Syntax: Continues executing as long as a condition evaluates to True.\n",
        "  "
      ],
      "metadata": {
        "id": "t1xF8JQ5wsns"
      }
    },
    {
      "cell_type": "code",
      "source": [
        "while comdition:\n",
        "  #code to execute"
      ],
      "metadata": {
        "id": "aE5OqUR-xFWd"
      },
      "execution_count": null,
      "outputs": []
    },
    {
      "cell_type": "code",
      "source": [
        "#Example:\n",
        "i=0\n",
        "while i<5:\n",
        "  print(i)\n",
        "  i+=1"
      ],
      "metadata": {
        "colab": {
          "base_uri": "https://localhost:8080/"
        },
        "id": "rTmA334zxOdO",
        "outputId": "3dd8ae5e-25fb-4470-8a5e-4fadd1979305"
      },
      "execution_count": null,
      "outputs": [
        {
          "output_type": "stream",
          "name": "stdout",
          "text": [
            "0\n",
            "1\n",
            "2\n",
            "3\n",
            "4\n"
          ]
        }
      ]
    },
    {
      "cell_type": "markdown",
      "source": [
        "When to Use:\n",
        "  \n",
        "  Use a for loop when iterating over a sequence or a fixed range of values.\n",
        "Use a while loop when the termination condition depends on dynamic factors or user input.\n",
        "\n",
        "Both are powerful tools, and choosing the right one depends on the specific use case in our program!"
      ],
      "metadata": {
        "id": "mbUT_FZBxeBE"
      }
    },
    {
      "cell_type": "markdown",
      "source": [
        "**14. Describe a scenario where a while loop is more suitable than a for loop** .\n",
        "- A while loop is more suitable than a for loop in scenarios where the number of iterations is unknown in advance and depends on a condition being met during runtime.\n",
        "\n",
        "Example Scenario: User Input Validation\n",
        "\n",
        "  - Imagine a program that prompts a user to enter a password. The program should continue asking for the password until the user enters the correct one. Since the number of attempts is not predetermined, a while loop is more appropriate.\n",
        "\n",
        "\n"
      ],
      "metadata": {
        "id": "4CIbdubX4A1s"
      }
    },
    {
      "cell_type": "code",
      "source": [
        "# code exaple:\n",
        "correct_password = \"secret123\"\n",
        "user_input = \"\"\n",
        "\n",
        "while user_input != correct_password:\n",
        "    user_input = input(\"Enter the password: \")\n",
        "    if user_input != correct_password:\n",
        "      print(\"You enter INCORRECT Password, Try Again.\")\n",
        "    else:\n",
        "      print(\"Access Granted!\")\n",
        "\n",
        "#print(\"Access granted!\")\n"
      ],
      "metadata": {
        "colab": {
          "base_uri": "https://localhost:8080/"
        },
        "id": "Fs264HP8zM4d",
        "outputId": "66b5edc1-b100-4d66-ac78-e48340832e95"
      },
      "execution_count": null,
      "outputs": [
        {
          "output_type": "stream",
          "name": "stdout",
          "text": [
            "Enter the password: secret12\n",
            "You enter INCORRECT Password, Try Again.\n",
            "Enter the password: secret123\n",
            "Access Granted!\n"
          ]
        }
      ]
    },
    {
      "cell_type": "markdown",
      "source": [
        "While loop is better here:\n",
        "-  The loop continues until the user provides the correct input, which could take an unpredictable number of attempts.\n",
        "- A for loop would be unsuitable because it is designed for iterating over a fixed range or sequence, and this scenario does not have a known upper limit.\n",
        "\n",
        "Use a while loop when the termination condition depends on dynamic factors, such as user input, sensor data, or any other runtime-determined condition."
      ],
      "metadata": {
        "id": "VpNIC0Ed05V5"
      }
    },
    {
      "cell_type": "markdown",
      "source": [
        "#Practical Questions:\n",
        "1.Write a Python program to print \"Hello, World!\"\n"
      ],
      "metadata": {
        "id": "44jya_2G25fi"
      }
    },
    {
      "cell_type": "code",
      "source": [
        "#1 code:\n",
        "print(\"Hello World!\")"
      ],
      "metadata": {
        "colab": {
          "base_uri": "https://localhost:8080/"
        },
        "id": "ztDlfBJT3LBN",
        "outputId": "6108d106-15f0-46eb-b515-b44dc7e99cea"
      },
      "execution_count": null,
      "outputs": [
        {
          "output_type": "stream",
          "name": "stdout",
          "text": [
            "Hello World!\n"
          ]
        }
      ]
    },
    {
      "cell_type": "code",
      "source": [
        "#2 code:\n",
        "a= \"Hello World!\"\n",
        "print(a)"
      ],
      "metadata": {
        "colab": {
          "base_uri": "https://localhost:8080/"
        },
        "id": "8g-x2AQ53S7M",
        "outputId": "332ffe5c-2021-4fca-ca71-75fd4d1b7aa4"
      },
      "execution_count": null,
      "outputs": [
        {
          "output_type": "stream",
          "name": "stdout",
          "text": [
            "Hello World!\n"
          ]
        }
      ]
    },
    {
      "cell_type": "markdown",
      "source": [
        "2.Write a Python program that displays your name and age."
      ],
      "metadata": {
        "id": "VP9Lv7Vn3kru"
      }
    },
    {
      "cell_type": "code",
      "source": [
        "name = (input(\"enter your name: \"))\n",
        "Age = (input(\"enter your age: \"))\n",
        "print(name)\n",
        "print(Age)"
      ],
      "metadata": {
        "colab": {
          "base_uri": "https://localhost:8080/"
        },
        "id": "SgUne05A3wjV",
        "outputId": "ab9d5334-7733-4653-839f-c6eef8d4b6eb"
      },
      "execution_count": null,
      "outputs": [
        {
          "output_type": "stream",
          "name": "stdout",
          "text": [
            "enter your name: shruti Raut\n",
            "enter your age: 19\n",
            "shruti Raut\n",
            "19\n"
          ]
        }
      ]
    },
    {
      "cell_type": "markdown",
      "source": [
        "3.Write code to print all the pre-defined keywords in Python using the keyword library."
      ],
      "metadata": {
        "id": "krWLurGW5U69"
      }
    },
    {
      "cell_type": "code",
      "source": [
        "help('keywords')"
      ],
      "metadata": {
        "colab": {
          "base_uri": "https://localhost:8080/"
        },
        "id": "hDrYzFej5aqh",
        "outputId": "a68bbd7c-e9a0-4f71-f91a-d7d2a93d1bda"
      },
      "execution_count": null,
      "outputs": [
        {
          "output_type": "stream",
          "name": "stdout",
          "text": [
            "\n",
            "Here is a list of the Python keywords.  Enter any keyword to get more help.\n",
            "\n",
            "False               class               from                or\n",
            "None                continue            global              pass\n",
            "True                def                 if                  raise\n",
            "and                 del                 import              return\n",
            "as                  elif                in                  try\n",
            "assert              else                is                  while\n",
            "async               except              lambda              with\n",
            "await               finally             nonlocal            yield\n",
            "break               for                 not                 \n",
            "\n"
          ]
        }
      ]
    },
    {
      "cell_type": "markdown",
      "source": [
        "4.Write a program that checks if a given word is a Python keyword."
      ],
      "metadata": {
        "id": "W5nN3BVj6kyL"
      }
    },
    {
      "cell_type": "code",
      "source": [
        "kw = input(\"Enter a word to check: \") #to get a input from user.\n",
        "keyword = \"help('Keywords')\" #To check the input is Python Keyword Or Not.\n",
        "if kw != keyword:\n",
        "    print(f\"'{kw}' is a Python Keyword.\")\n",
        "else:\n",
        "  print(f\"'{kw}' is not a Python Keyword.\")\n",
        "\n",
        "\n",
        "\n"
      ],
      "metadata": {
        "colab": {
          "base_uri": "https://localhost:8080/"
        },
        "id": "4mOh44xE6sDV",
        "outputId": "e9872683-4362-477d-e307-34975bc51e79"
      },
      "execution_count": null,
      "outputs": [
        {
          "output_type": "stream",
          "name": "stdout",
          "text": [
            "Enter a word to check: for\n",
            "'for' is a Python Keyword.\n"
          ]
        }
      ]
    },
    {
      "cell_type": "markdown",
      "source": [
        "5.Create a list and tuple in Python, and demonstrate how attempting to change an element works differently\n",
        "for each."
      ],
      "metadata": {
        "id": "g3S0N5km_nS5"
      }
    },
    {
      "cell_type": "code",
      "source": [
        "#for list\n",
        "my_list = [1,2,3,4,5]\n",
        "my_list[0] = 1.3   #we change the element on position 0th index 1 to 1.3\n",
        "print(my_list)"
      ],
      "metadata": {
        "id": "2M3Ccyz9AOLj",
        "colab": {
          "base_uri": "https://localhost:8080/"
        },
        "outputId": "dd4e029f-3847-4c85-bc01-08b6fdb683a5"
      },
      "execution_count": null,
      "outputs": [
        {
          "output_type": "stream",
          "name": "stdout",
          "text": [
            "[1.3, 2, 3, 4, 5]\n"
          ]
        }
      ]
    },
    {
      "cell_type": "code",
      "source": [
        "#for tuple\n",
        "t = (1,23,3.5, True, 3+4j, \"Aaaaa\")\n",
        "t[0] = 1.3 # raise an error>>>'tuple' object does not support item assignment\n",
        "print(t)\n"
      ],
      "metadata": {
        "id": "nuWfgEyDfKJe"
      },
      "execution_count": null,
      "outputs": []
    },
    {
      "cell_type": "markdown",
      "source": [
        "6. Write a function to demonstrate the behavior of mutable and immutable arguments.\n"
      ],
      "metadata": {
        "id": "S_uoUkF_f-tz"
      }
    },
    {
      "cell_type": "code",
      "source": [
        "def demonstrate_mutable_and_immutable():\n",
        "    # Immutable argument example\n",
        "    def modify_immutable(value):\n",
        "        print(f\"Immutable - Before modification: {value}\")\n",
        "        value += 10  # Creates a new object since integers are immutable\n",
        "        print(f\"Immutable - After modification: {value}\")\n",
        "\n",
        "    # Mutable argument example\n",
        "    def modify_mutable(lst):\n",
        "        print(f\"Mutable - Before modification: {lst}\")\n",
        "        lst.append(10)  # Modifies the object in place since lists are mutable\n",
        "        print(f\"Mutable - After modification: {lst}\")\n",
        "\n",
        "    # Test immutable behavior\n",
        "    num = 5\n",
        "    print(\"\\nTesting with immutable argument:\")\n",
        "    modify_immutable(num)\n",
        "    print(f\"Immutable - Outside function: {num}\")  # Value remains unchanged\n",
        "\n",
        "    # Test mutable behavior\n",
        "    my_list = [1, 2, 3]\n",
        "    print(\"\\nTesting with mutable argument:\")\n",
        "    modify_mutable(my_list)\n",
        "    print(f\"Mutable - Outside function: {my_list}\")  # Value is modified\n",
        "\n",
        "# Call the demonstration function\n",
        "demonstrate_mutable_and_immutable()\n"
      ],
      "metadata": {
        "colab": {
          "base_uri": "https://localhost:8080/"
        },
        "id": "vSbbWlt0gvAA",
        "outputId": "dca054e0-eb0b-4b8d-f6c2-0b0e01731522"
      },
      "execution_count": null,
      "outputs": [
        {
          "output_type": "stream",
          "name": "stdout",
          "text": [
            "\n",
            "Testing with immutable argument:\n",
            "Immutable - Before modification: 5\n",
            "Immutable - After modification: 15\n",
            "Immutable - Outside function: 5\n",
            "\n",
            "Testing with mutable argument:\n",
            "Mutable - Before modification: [1, 2, 3]\n",
            "Mutable - After modification: [1, 2, 3, 10]\n",
            "Mutable - Outside function: [1, 2, 3, 10]\n"
          ]
        }
      ]
    },
    {
      "cell_type": "markdown",
      "source": [
        "8. Write a program to demonstrate the use of logical operators"
      ],
      "metadata": {
        "id": "VyMnhwr3hR1p"
      }
    },
    {
      "cell_type": "code",
      "source": [
        "# Initialize variables\n",
        "a=True\n",
        "b=False\n",
        "c=10\n",
        "d=20\n",
        "# True because both conditions are True\n",
        "print(\" Logical AND Operators\")\n",
        "print(f\"a and b: {a and b}\")  # False because b is False\n",
        "print(f\"(c > 5) and (d > 15): {(c > 5) and (d > 15)}\") # True because both conditions are True"
      ],
      "metadata": {
        "colab": {
          "base_uri": "https://localhost:8080/"
        },
        "id": "sqy7HWbjhvo0",
        "outputId": "4bf7b413-b7b2-4dd5-9934-7e43afb902c9"
      },
      "execution_count": null,
      "outputs": [
        {
          "output_type": "stream",
          "name": "stdout",
          "text": [
            " Logical AND Operators\n",
            "a and b: False\n",
            "(c > 5) and (d > 15): True\n"
          ]
        }
      ]
    },
    {
      "cell_type": "code",
      "source": [
        "# Logical OR\n",
        "print(\"\\nLogical OR:\")\n",
        "print(f\"a or b: {a or b}\")  # True because at least one condition is True\n",
        "print(f\"(c > 15) or (d > 15): {(c > 15) or (d > 15)}\")  # True because one condition is True"
      ],
      "metadata": {
        "colab": {
          "base_uri": "https://localhost:8080/"
        },
        "id": "Co069924ifOr",
        "outputId": "1af41e2d-2c15-4e53-d97a-4d6178ffea2b"
      },
      "execution_count": null,
      "outputs": [
        {
          "output_type": "stream",
          "name": "stdout",
          "text": [
            "\n",
            "Logical OR:\n",
            "a or b: True\n",
            "(c > 15) or (d > 15): True\n"
          ]
        }
      ]
    },
    {
      "cell_type": "code",
      "source": [
        "# Logical NOT\n",
        "print(\"\\nLogical NOT:\")\n",
        "print(f\"not a: {not a}\")  # False because a is True\n",
        "print(f\"not b: {not b}\")  # True because b is False\n",
        "print(f\"not (c > d): {not (c > d)}\")  # True because c is not greater than d"
      ],
      "metadata": {
        "colab": {
          "base_uri": "https://localhost:8080/"
        },
        "id": "TblOFI2OjLFJ",
        "outputId": "cdbb7d80-f7df-4c7a-8c54-5100a9b982a4"
      },
      "execution_count": null,
      "outputs": [
        {
          "output_type": "stream",
          "name": "stdout",
          "text": [
            "\n",
            "Logical NOT:\n",
            "not a: False\n",
            "not b: True\n",
            "not (c > d): True\n"
          ]
        }
      ]
    },
    {
      "cell_type": "markdown",
      "source": [
        "**9.Write a Python program to convert user input from string to integer, float, and boolean types.**"
      ],
      "metadata": {
        "id": "tsApPAAgjhN1"
      }
    },
    {
      "cell_type": "code",
      "source": [
        "# Get user input as a string\n",
        "user_input = input(\"Enter a value: \")\n",
        "\n",
        "# Convert to integer\n",
        "if user_input.isdigit() or (user_input[0] == '-' and user_input[1:].isdigit()):\n",
        "    int_value = int(user_input)\n",
        "    print(f\"Integer value: {int_value}\")\n",
        "else:\n",
        "    print(\"Cannot convert to integer.\")\n",
        "\n",
        "# Convert to float\n",
        "if user_input.replace('.', '', 1).isdigit() or \\\n",
        "   (user_input[0] == '-' and user_input[1:].replace('.', '', 1).isdigit()):\n",
        "    float_value = float(user_input)\n",
        "    print(f\"Float value: {float_value}\")\n",
        "else:\n",
        "    print(\"Cannot convert to float.\")\n",
        "\n",
        "# Convert to boolean\n",
        "# An empty or whitespace-only string is False, all others are True\n",
        "bool_value = bool(user_input.strip())\n",
        "print(f\"Boolean value: {bool_value}\")\n"
      ],
      "metadata": {
        "id": "w7ezRMeVqK4Z",
        "colab": {
          "base_uri": "https://localhost:8080/"
        },
        "outputId": "9aae8674-790f-476e-ab39-75b44dbbce9a"
      },
      "execution_count": 33,
      "outputs": [
        {
          "output_type": "stream",
          "name": "stdout",
          "text": [
            "enter a number: 123\n",
            "<class 'int'>\n"
          ]
        }
      ]
    },
    {
      "cell_type": "markdown",
      "source": [
        "**10.Write code to demonstrate type casting with list elements.**"
      ],
      "metadata": {
        "id": "KVfQGqvsjrDu"
      }
    },
    {
      "cell_type": "code",
      "source": [
        "#List with mixed type elements\n",
        "m_list = [\"Ram\", \"1\" , \"2.5\" ,\"True\",\"2.23\",\"(3+7j)\", \"0\"]\n",
        "#create new lists to store converted elements\n",
        "str_list = []\n",
        "int_list = []\n",
        "float_list = []\n",
        "bool_list = []\n",
        "#iterate through each element in the list\n",
        "for i in m_list:\n",
        "  # Try converting to integer if possible\n",
        "    if i.isdigit():\n",
        "        int_list.append(int(i))\n",
        "    # Try converting to float if possible\n",
        "    if i.replace('.', '', 1).isdigit() or (i[0] == '-' and i[1:].replace('.', '', 1).isdigit()):\n",
        "        float_list.append(float(i))\n",
        "    # Convert to boolean (non-empty strings evaluate to True, \"0\" evaluates to True in bool casting)\n",
        "    bool_list.append(bool(i))\n",
        "    # Convert to string (implicit, for demonstration)\n",
        "    str_list.append(str(i))\n",
        "\n",
        "# Print results\n",
        "print(f\"Original list: {m_list}\")\n",
        "print(f\"Integer list: {int_list}\")\n",
        "print(f\"Float list: {float_list}\")\n",
        "print(f\"Boolean list: {bool_list}\")\n",
        "print(f\"String list: {str_list}\")\n",
        "\n"
      ],
      "metadata": {
        "id": "REXtIj2jpYpn",
        "colab": {
          "base_uri": "https://localhost:8080/"
        },
        "outputId": "a181b3a7-a97b-4282-f302-badf2cbedcfe"
      },
      "execution_count": 37,
      "outputs": [
        {
          "output_type": "stream",
          "name": "stdout",
          "text": [
            "Original list: ['Ram', '1', '2.5', 'True', '2.23', '(3+7j)', '0']\n",
            "Integer list: [1, 0]\n",
            "Float list: [1.0, 2.5, 2.23, 0.0]\n",
            "Boolean list: [True, True, True, True, True, True, True]\n",
            "String list: ['Ram', '1', '2.5', 'True', '2.23', '(3+7j)', '0']\n"
          ]
        }
      ]
    },
    {
      "cell_type": "markdown",
      "source": [
        "**11.Write a program that checks if a number is positive, negative, or zero.**"
      ],
      "metadata": {
        "id": "UiLHJCMOjxeu"
      }
    },
    {
      "cell_type": "code",
      "source": [
        "n = int(input(\"enter an integer: \"))\n",
        "if n == 0:\n",
        "  print(\"The number is zero.\")\n",
        "elif n > 0:\n",
        "  print(\"The number is positive.\")\n",
        "else:\n",
        "  print(\"The number is negative.\")"
      ],
      "metadata": {
        "colab": {
          "base_uri": "https://localhost:8080/"
        },
        "id": "eXURQ0jFoQ1i",
        "outputId": "a49c6485-131a-4462-e8d3-448fa3f79200"
      },
      "execution_count": null,
      "outputs": [
        {
          "output_type": "stream",
          "name": "stdout",
          "text": [
            "enter an integer: -7\n",
            "The number is negative.\n"
          ]
        }
      ]
    },
    {
      "cell_type": "markdown",
      "source": [
        "**12. Write a for loop to print numbers from 1 to 10.**"
      ],
      "metadata": {
        "id": "CKfQuk2ej23N"
      }
    },
    {
      "cell_type": "code",
      "source": [
        "for i in range(1,11):\n",
        "  print(i)"
      ],
      "metadata": {
        "colab": {
          "base_uri": "https://localhost:8080/"
        },
        "id": "o51-IcNaoFPF",
        "outputId": "34bd4fec-9112-4a23-dc73-8b03c9252401"
      },
      "execution_count": null,
      "outputs": [
        {
          "output_type": "stream",
          "name": "stdout",
          "text": [
            "1\n",
            "2\n",
            "3\n",
            "4\n",
            "5\n",
            "6\n",
            "7\n",
            "8\n",
            "9\n",
            "10\n"
          ]
        }
      ]
    },
    {
      "cell_type": "markdown",
      "source": [
        "**13.Write a Python program to find the sum of all even numbers between 1 and 50.**"
      ],
      "metadata": {
        "id": "8ZnbDP-Aj_MP"
      }
    },
    {
      "cell_type": "code",
      "source": [
        "num = range(0,51)\n",
        "sum = 0\n",
        "for i in num:\n",
        "  if i % 2 == 0:\n",
        "    sum += i\n",
        "print(sum)"
      ],
      "metadata": {
        "colab": {
          "base_uri": "https://localhost:8080/"
        },
        "id": "v0cOVC_Tngc8",
        "outputId": "229d6b21-b48a-4904-c985-4da0aef51a52"
      },
      "execution_count": null,
      "outputs": [
        {
          "output_type": "stream",
          "name": "stdout",
          "text": [
            "650\n"
          ]
        }
      ]
    },
    {
      "cell_type": "markdown",
      "source": [
        "**14.Write a program to reverse a string using a while loop.**"
      ],
      "metadata": {
        "id": "xHLLp4UIkH0o"
      }
    },
    {
      "cell_type": "code",
      "source": [
        "string = input(\"Enter a string: \")\n",
        "reversed_string = \"\"\n",
        "length = len(string)\n",
        "index = length - 1\n",
        "\n",
        "while index >= 0:\n",
        "    reversed_string += string[index]\n",
        "    index -= 1\n",
        "\n",
        "print(\"Reversed string:\", reversed_string)"
      ],
      "metadata": {
        "colab": {
          "base_uri": "https://localhost:8080/"
        },
        "id": "OKuTHeGtm95e",
        "outputId": "21b47888-00ca-4b0a-daf7-9cafcc15eebc"
      },
      "execution_count": null,
      "outputs": [
        {
          "output_type": "stream",
          "name": "stdout",
          "text": [
            "Enter a string: GOAT\n",
            "Reversed string: TAOG\n"
          ]
        }
      ]
    },
    {
      "cell_type": "markdown",
      "source": [
        "15.Write a Python program to calculate the factorial of a number provided by the user using a while loop."
      ],
      "metadata": {
        "id": "xildta2akPYA"
      }
    },
    {
      "cell_type": "code",
      "source": [
        "num = int(input(\"enter a Number:\"))\n",
        "if num < 0:\n",
        "        print(\"Factorial is not defined for negative numbers.\")\n",
        "else:\n",
        "    factorial = 1\n",
        "    current = num\n",
        "\n",
        "while current > 0:\n",
        "    factorial *= current\n",
        "    current -= 1\n",
        "\n",
        "print(f\"The factorial of {num} is: {factorial}\")\n",
        "\n",
        "#print(factorial)\n",
        "\n",
        "\n"
      ],
      "metadata": {
        "colab": {
          "base_uri": "https://localhost:8080/"
        },
        "id": "ETMA3L_MkZ-n",
        "outputId": "7295c291-2f1b-4da2-8b85-d10af392d02c"
      },
      "execution_count": null,
      "outputs": [
        {
          "output_type": "stream",
          "name": "stdout",
          "text": [
            "enter a Number:4\n",
            "The factorial of 4 is: 24\n"
          ]
        }
      ]
    }
  ]
}